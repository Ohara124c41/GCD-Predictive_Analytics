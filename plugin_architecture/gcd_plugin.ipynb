{
  "nbformat": 4,
  "nbformat_minor": 0,
  "metadata": {
    "colab": {
      "name": "gcd_plugin.ipynb",
      "provenance": [],
      "collapsed_sections": [],
      "authorship_tag": "ABX9TyM8j8zFQuK2hXUfLRB5oXAG",
      "include_colab_link": true
    },
    "kernelspec": {
      "name": "python3",
      "display_name": "Python 3"
    },
    "language_info": {
      "name": "python"
    }
  },
  "cells": [
    {
      "cell_type": "markdown",
      "metadata": {
        "id": "view-in-github",
        "colab_type": "text"
      },
      "source": [
        "<a href=\"https://colab.research.google.com/github/Ohara124c41/GCD-Predictive_Analytics/blob/main/plugin_architecture/gcd_plugin.ipynb\" target=\"_parent\"><img src=\"https://colab.research.google.com/assets/colab-badge.svg\" alt=\"Open In Colab\"/></a>"
      ]
    },
    {
      "cell_type": "code",
      "metadata": {
        "colab": {
          "base_uri": "https://localhost:8080/"
        },
        "id": "2lBdKBgaW89d",
        "outputId": "88a342b0-d17e-4bc4-ea17-16a928245032"
      },
      "source": [
        "pip install --editable /content/gcd\n"
      ],
      "execution_count": 1,
      "outputs": [
        {
          "output_type": "stream",
          "text": [
            "Obtaining file:///content/gcd\n",
            "Requirement already satisfied: pluggy<1.0,>=0.3 in /usr/local/lib/python3.7/dist-packages (from gcd==0.0.0) (0.7.1)\n",
            "Installing collected packages: gcd\n",
            "  Found existing installation: gcd 0.0.0\n",
            "    Can't uninstall 'gcd'. No files were found to uninstall.\n",
            "  Running setup.py develop for gcd\n",
            "Successfully installed gcd\n"
          ],
          "name": "stdout"
        }
      ]
    },
    {
      "cell_type": "code",
      "metadata": {
        "colab": {
          "base_uri": "https://localhost:8080/"
        },
        "id": "kO0kjIMFXkYI",
        "outputId": "d8c8ce4e-66d6-4210-addd-c9def7eea60e"
      },
      "source": [
        "import itertools\n",
        "import random\n",
        "\n",
        "import pluggy\n",
        "\n",
        "from gcd import hookspecs, lib\n",
        "\n",
        "score_list = {\"Quality\": 5, \"Accuracy\": 4, \"Response Time\": 6}\n",
        "\n",
        "\n",
        "def main():\n",
        "    pm = get_plugin_manager()\n",
        "    do = Ility_Manager(pm.hook)\n",
        "    do.add_ilities()\n",
        "    do.shuffle_ilities()\n",
        "    do.return_ilities()\n",
        "\n",
        "\n",
        "def get_plugin_manager():\n",
        "    pm = pluggy.PluginManager(\"gcd\")\n",
        "    pm.add_hookspecs(hookspecs)\n",
        "    pm.load_setuptools_entrypoints(\"gcd\")\n",
        "    pm.register(lib)\n",
        "    return pm\n",
        "\n",
        "\n",
        "class Ility_Manager:\n",
        "    FAVORITE_QUANTS = (\"Cost\", \"Performance\", \"Energy Usage\")\n",
        "\n",
        "    def __init__(self, hook):\n",
        "        self.hook = hook\n",
        "        self.quant = None\n",
        "\n",
        "    def add_ilities(self):\n",
        "        results = self.hook.gcd_pair_ilities(\n",
        "            quant=self.FAVORITE_QUANTS\n",
        "        )\n",
        "        my_ilities = list(self.FAVORITE_QUANTS)\n",
        "        # each hook returns a list - so we chain this list of lists\n",
        "        other_ilities = list(itertools.chain(*results))\n",
        "        self.quant = my_ilities + other_ilities\n",
        "\n",
        "    def shuffle_ilities(self):\n",
        "        random.shuffle(self.quant)\n",
        "\n",
        "    def return_ilities(self):\n",
        "        score_comments = self.hook.gcd_ilities_score(\n",
        "            ilities=score_list\n",
        "        )\n",
        "        print(f\"Your Qualitative Attributes. Please consider {', '.join(self.quant)}\")\n",
        "        print(f\"Some Quantitative Aspects? Examples for satellite subsystems include: {', '.join(score_list.keys())}\")\n",
        "        if any(score_comments):\n",
        "            print(\"\\n\".join(score_comments))\n",
        "\n",
        "\n",
        "if __name__ == \"__main__\":\n",
        "    main()"
      ],
      "execution_count": 2,
      "outputs": [
        {
          "output_type": "stream",
          "text": [
            "Your Qualitative Attributes. Please consider Synergy, Low-Cohesion, Maturity, Performance, Loosely-Coupled, Cost, Energy Usage\n",
            "Some Quantitative Aspects? Examples for satellite subsystems include: Quality, Accuracy, Response Time, Bandwidth\n"
          ],
          "name": "stdout"
        }
      ]
    }
  ]
}